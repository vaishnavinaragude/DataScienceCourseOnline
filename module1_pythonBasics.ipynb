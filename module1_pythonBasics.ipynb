{
  "nbformat": 4,
  "nbformat_minor": 0,
  "metadata": {
    "colab": {
      "provenance": []
    },
    "kernelspec": {
      "name": "python3",
      "display_name": "Python 3"
    },
    "language_info": {
      "name": "python"
    }
  },
  "cells": [
    {
      "cell_type": "markdown",
      "source": [
        "Python Basics Questions\n",
        "1. What is Python, and why is it popular ?\n",
        "--> Python is high level programming language used for creating instructions for computers to follow.\n",
        "It is versatile, has huge active community, has lot of libraries(inbuilt funtions), it is easy to learn and is object oriented , has wide range of applications(embedded devices, web development etc) .\n",
        "\n",
        "2. What is an interpreter in Python ?\n",
        "--> An interpreter is a program that reads and executes the Python code line by line. It converts the Python source code into machine-readable instructions that can be executed by the computer.\n",
        "The default and most widely used Python interpreter, written in C. It compiles Python code into bytecode and then runs it on the Python Virtual Machine (PVM), is known as CPython.\n",
        "\n",
        "3. What are pre-defined keywords in Python ?\n",
        "--> keywords are reserved words that have a special meaning and cannot be used as identifiers (such as variable names, function names, or class names). These keywords are part of the syntax of the Python language, and they help define the structure and behavior of Python programs.\n",
        "\n",
        "Here is a list of the Python keywords.\n",
        "\n",
        "False               class               from                or\n",
        "None                continue            global              pass\n",
        "True                def                 if                  raise\n",
        "and                 del                 import              return\n",
        "as                  elif                in                  try\n",
        "assert              else                is                  while\n",
        "async               except              lambda              with\n",
        "await               finally             nonlocal            yield\n",
        "break               for                 not                 \n",
        "\n",
        "4. Can keywords be used as variable names ?\n",
        "--> No, keywords can not be used as variable.\n",
        "\n",
        "5. What is mutability in Python?\n",
        "--> Mutability in Python refers to the ability of an object to be modified after it is created.\n",
        "If an object is mutable, its state or contents can be changed.\n",
        "\n",
        "Common mutable types in Python include:\n",
        "Lists: We can add, remove, or change elements in a list after it has been created.\n",
        "Dictionaries: We can add, remove, or modify key-value pairs in a dictionary.\n",
        "Sets: We can add or remove elements from a set.\n",
        "\n",
        "6. Why are lists mutable, but tuples are immutable?\n",
        "--> Lists are mutable because they are designed to store collections of data that may change over time (e.g., adding, removing, or modifying elements). This flexibility makes them suitable for dynamic operations.\n",
        "\n",
        "Tuples, on the other hand, are immutable because they are meant to represent fixed, constant collections of data that should not be altered once created. Their immutability makes them more efficient in terms of memory and allows them to be used as keys in dictionaries or added to sets, which require hashable objects.\n",
        "\n",
        "7. What is the difference between “==” and “is” operators in Python ?\n",
        "-->In Python, the == and is operators are used for comparison, but they serve different purposes:\n",
        "1. == (Equality Operator)\n",
        "Purpose: The == operator checks if the values of two objects are equal.\n",
        "Behavior: It compares the data contained in the objects (the values), not the objects themselves.\n",
        "2. is (Identity Operator)\n",
        "Purpose: The is operator checks if two variables refer to the same object in memory.\n",
        "Behavior: It compares the memory addresses of the objects to see if they are the same (i.e., if they point to the same location in memory).\n",
        "\n",
        "8. What are logical operators in Python ?\n",
        "--> Logical operators are used to combine or invert conditional statements. The three main logical operators are:\n",
        "1.and: Returns True if both conditions are True. Otherwise, it returns False.\n",
        "Example: (x > 0) and (y > 0)\n",
        "\n",
        "2.or: Returns True if at least one of the conditions is True. If both are False, it returns False.\n",
        "Example: (x > 0) or (y < 0)\n",
        "\n",
        "3.not: Reverses the Boolean value of the condition. If the condition is True, it returns False; if False, it returns True.\n",
        "Example: not (x > 0)\n",
        "\n",
        "These operators help evaluate and combine expressions that result in a Boolean (True or False) value.\n",
        "\n",
        "9. What is type casting in Python?\n",
        "--> Type casting in Python is the process of changing a variable's data type to another data type. It's also known as type conversion.\n",
        "Type casting is important for ensuring that different data types are compatible and for making Python code more versatile. It allows for flexible operations and data manipulation within a program.\n",
        "\n",
        "10. What is the difference between implicit and explicit type casting?\n",
        "--> Implicit :\n",
        "Automatically interpreted conversions. For example, when adding an integer to a float, Python automatically converts the integer to a float.\n",
        "Explicit :\n",
        "Using predefined functions to convert an object's data type to a required data type. For example, we can use the float(), int(), or str() functions to convert an object's data type.\n",
        "\n",
        "11. What is the purpose of conditional statements in Python ?\n",
        "--> The purpose of conditional statements in Python is to control the flow of a program by making decisions based on certain conditions.\n",
        "Conditional statements can make code more efficient and easier to read by avoiding long and complicated blocks of code.\n",
        "\n",
        "12. How does the elif statement work?\n",
        "-->  elif is short for \"else if\" and is used when the first if statement isn't true, but you want to check for another condition.\n",
        "\n",
        "example:\n",
        "\n",
        "a=100\n",
        "if a>100:\n",
        "    print(\"a is greater than 100\")\n",
        "elif a<100:\n",
        "    print(\"a is less than 100\")\n",
        "else:\n",
        "    print(\"a is equal to 100\")\n",
        "\n",
        "13. What is the difference between for and while loops ?\n",
        "--> for loop is used when you know the number of iterations, while a while loop is used when you don't:\n",
        "For loop\n",
        "Used to repeat a block of code a known number of times. For example, if you want to check the grade of every student in a class, you can use a for loop to loop from 1 to the number of students.\n",
        "While loop\n",
        "Used to repeat a block of code an unknown number of times, until a condition is met. For example, if you want to ask a user for a number between 1 and 10, you can use a while loop to keep asking until the user enters a number within the range.\n",
        "\n",
        "14. Describe a scenario where a while loop is more suitable than a for loop.\n",
        "--> A while loop is more suitable than a for loop in situations where the number of iterations is not known in advance and the loop continues based on a condition that may change dynamically during the execution of the loop.\n",
        "Scenario: User Input Validation\n",
        "Imagine you're developing a program that repeatedly asks the user for a valid email address. The program should continue to ask the user for input until they provide a valid email. Since you don't know how many attempts the user will need, a while loop is more suitable.\n"
      ],
      "metadata": {
        "id": "4ZQ8LEJsmGQT"
      }
    },
    {
      "cell_type": "code",
      "source": [
        "help('keywords')\n"
      ],
      "metadata": {
        "colab": {
          "base_uri": "https://localhost:8080/"
        },
        "id": "sIxoLBwFHlY1",
        "outputId": "584102f9-a173-4bc1-ef89-810ea5136a37"
      },
      "execution_count": null,
      "outputs": [
        {
          "output_type": "stream",
          "name": "stdout",
          "text": [
            "\n",
            "Here is a list of the Python keywords.  Enter any keyword to get more help.\n",
            "\n",
            "False               class               from                or\n",
            "None                continue            global              pass\n",
            "True                def                 if                  raise\n",
            "and                 del                 import              return\n",
            "as                  elif                in                  try\n",
            "assert              else                is                  while\n",
            "async               except              lambda              with\n",
            "await               finally             nonlocal            yield\n",
            "break               for                 not                 \n",
            "\n"
          ]
        }
      ]
    },
    {
      "cell_type": "code",
      "source": [
        "#1 Write a Python program to print \"Hello, World!\"\n",
        "\n",
        "print(\"Hello World!\")"
      ],
      "metadata": {
        "colab": {
          "base_uri": "https://localhost:8080/"
        },
        "id": "5hnRIK2uNFvy",
        "outputId": "4f2575a8-41b3-4714-ddaf-136d43167edd"
      },
      "execution_count": null,
      "outputs": [
        {
          "output_type": "stream",
          "name": "stdout",
          "text": [
            "Hello World!\n"
          ]
        }
      ]
    },
    {
      "cell_type": "code",
      "source": [
        "#2 Write a Python program that displays your name and age\n",
        "\n",
        "name= \"Vaishnavi\"\n",
        "age=22\n",
        "\n",
        "print(\"My name is :\", name);\n",
        "print(\"My age is :\",age);"
      ],
      "metadata": {
        "colab": {
          "base_uri": "https://localhost:8080/"
        },
        "id": "E7vXHDewNTnt",
        "outputId": "6e996516-a407-4b84-a0db-b60c90e31d04"
      },
      "execution_count": null,
      "outputs": [
        {
          "output_type": "stream",
          "name": "stdout",
          "text": [
            "My name is : Vaishnavi\n",
            "My age is : 22\n"
          ]
        }
      ]
    },
    {
      "cell_type": "code",
      "source": [
        "#3 Write code to print all the pre-defined keywords in Python using the keyword library\n",
        "\n",
        "import keyword\n",
        "print(\"python keywords: \", keyword.kwlist)"
      ],
      "metadata": {
        "colab": {
          "base_uri": "https://localhost:8080/"
        },
        "id": "4bAams87Nvrm",
        "outputId": "a35d16f7-65ac-4749-c949-a8fde3b782dd"
      },
      "execution_count": null,
      "outputs": [
        {
          "output_type": "stream",
          "name": "stdout",
          "text": [
            "python keywords:  ['False', 'None', 'True', 'and', 'as', 'assert', 'async', 'await', 'break', 'class', 'continue', 'def', 'del', 'elif', 'else', 'except', 'finally', 'for', 'from', 'global', 'if', 'import', 'in', 'is', 'lambda', 'nonlocal', 'not', 'or', 'pass', 'raise', 'return', 'try', 'while', 'with', 'yield']\n"
          ]
        }
      ]
    },
    {
      "cell_type": "code",
      "source": [
        "#4 Write a program that checks if a given word is a Python keyword\n",
        "\n",
        "import keyword\n",
        "\n",
        "#take input from user\n",
        "word= input(\"Enter the word that you to check whether it is python keyword or not: \")\n",
        "\n",
        "# Checking if the word is a Python keyword\n",
        "if keyword.iskeyword(word):\n",
        "    print(f\"'{word}' is a Python keyword.\")\n",
        "else:\n",
        "    print(f\"'{word}' is not a Python keyword.\")"
      ],
      "metadata": {
        "colab": {
          "base_uri": "https://localhost:8080/"
        },
        "id": "i4VxF-VzOLe4",
        "outputId": "91eefe1d-5021-4dcd-d6cc-7aa2314f3514"
      },
      "execution_count": null,
      "outputs": [
        {
          "output_type": "stream",
          "name": "stdout",
          "text": [
            "Enter the word that you to check whether it is python keyword or not: False\n",
            "'False' is a Python keyword.\n"
          ]
        }
      ]
    },
    {
      "cell_type": "code",
      "source": [
        "#5 Create a list and tuple in Python, and demonstrate how attempting to change an element works differently\n",
        "#for each\n",
        "\n",
        "list= [1,2,3,\"Ved\",\"Pune\"]\n",
        "tuple= [1,2,3,4,5,6,7,8,9]\n",
        "\n",
        "print(\"My list is: \",list)\n",
        "list[3]= 100;\n",
        "print(\"New list is: \",list)\n",
        "\n",
        "print(\"\\nOriginal tuple:\", tuple)\n",
        "try:\n",
        "   tuple[2] = 100  # Trying to change the third element (index 2) in the tuple\n",
        "except TypeError as e:\n",
        "    print(\"Error:\", e)"
      ],
      "metadata": {
        "colab": {
          "base_uri": "https://localhost:8080/"
        },
        "id": "oyGYpUqKOxjM",
        "outputId": "5b49e75a-91d5-4568-ca91-51154b063439"
      },
      "execution_count": null,
      "outputs": [
        {
          "output_type": "stream",
          "name": "stdout",
          "text": [
            "My list is:  [1, 2, 3, 'Ved', 'Pune']\n",
            "New list is:  [1, 2, 3, 100, 'Pune']\n",
            "\n",
            "Original tuple: [1, 2, 3, 4, 5, 6, 7, 8, 9]\n"
          ]
        }
      ]
    },
    {
      "cell_type": "code",
      "source": [
        "#6 Write a function to demonstrate the behavior of mutable and immutable arguments\n",
        "\n",
        "def demonstrate_mutable_immutable(mutable_arg, immutable_arg):\n",
        "    print(\"Before modification:\")\n",
        "    print(\"Mutable argument:\", mutable_arg)\n",
        "    print(\"Immutable argument:\", immutable_arg)\n",
        "\n",
        "    # Modifying the mutable argument (list)\n",
        "    mutable_arg.append(100)\n",
        "    # Modifying the immutable argument (integer) by trying to reassign it\n",
        "    immutable_arg += 10\n",
        "\n",
        "    print(\"\\nAfter modification:\")\n",
        "    print(\"Mutable argument:\", mutable_arg)\n",
        "    print(\"Immutable argument:\", immutable_arg)\n",
        "\n",
        "\n",
        "# Test the function\n",
        "my_list = [1, 2, 3]\n",
        "my_number = 5\n",
        "\n",
        "demonstrate_mutable_immutable(my_list, my_number)\n",
        "\n"
      ],
      "metadata": {
        "colab": {
          "base_uri": "https://localhost:8080/"
        },
        "id": "LNWt1hT7P2ms",
        "outputId": "83976f96-e388-4b18-ee29-99a85e3d7b8d"
      },
      "execution_count": null,
      "outputs": [
        {
          "output_type": "stream",
          "name": "stdout",
          "text": [
            "Before modification:\n",
            "Mutable argument: [1, 2, 3]\n",
            "Immutable argument: 5\n",
            "\n",
            "After modification:\n",
            "Mutable argument: [1, 2, 3, 100]\n",
            "Immutable argument: 15\n"
          ]
        }
      ]
    },
    {
      "cell_type": "code",
      "source": [
        "#7 Write a program to demonstrate the use of logical operators\n",
        "# Define some sample variables\n",
        "a = 5\n",
        "b = 10\n",
        "c = 15\n",
        "\n",
        "# Using 'and' logical operator\n",
        "if a < b and b < c:\n",
        "    print(\"Both conditions are true using 'and' operator.\")\n",
        "else:\n",
        "    print(\"At least one condition is false using 'and' operator.\")\n",
        "\n",
        "# Using 'or' logical operator\n",
        "if a < b or b > c:\n",
        "    print(\"At least one condition is true using 'or' operator.\")\n",
        "else:\n",
        "    print(\"Both conditions are false using 'or' operator.\")\n",
        "\n",
        "# Using 'not' logical operator\n",
        "if not (a > b):\n",
        "    print(\"The condition is false using 'not' operator.\")\n",
        "else:\n",
        "    print(\"The condition is true using 'not' operator.\")\n",
        "\n"
      ],
      "metadata": {
        "colab": {
          "base_uri": "https://localhost:8080/"
        },
        "id": "rP2XCQ7aQDM_",
        "outputId": "100906f2-4a27-455a-a8c5-d05d8d8fe592"
      },
      "execution_count": null,
      "outputs": [
        {
          "output_type": "stream",
          "name": "stdout",
          "text": [
            "Both conditions are true using 'and' operator.\n",
            "At least one condition is true using 'or' operator.\n",
            "The condition is false using 'not' operator.\n"
          ]
        }
      ]
    },
    {
      "cell_type": "code",
      "source": [
        "#8 Write a Python program to convert user input from string to integer, float, and boolean types0\n",
        "\n",
        "# Taking user input as a string\n",
        "user_input = input(\"Enter a value: \")\n",
        "\n",
        "# Convert to integer\n",
        "if user_input.isdigit():  # Checks if the input can be converted to an integer\n",
        "    integer_value = int(user_input)\n",
        "    print(\"Integer conversion:\", integer_value)\n",
        "else:\n",
        "    print(\"Input cannot be converted to an integer.\")\n",
        "\n",
        "# Convert to float\n",
        "if user_input.isdigit():\n",
        "    float_value = float(user_input)\n",
        "    print(\"Float conversion:\", float_value)\n",
        "else:\n",
        "    print(\"Input cannot be converted to a float.\")\n",
        "\n",
        "# Convert to boolean\n",
        "# Any non-empty string will be True, and an empty string will be False\n",
        "boolean_value = bool(user_input)\n",
        "print(\"Boolean conversion:\", boolean_value)\n",
        "\n"
      ],
      "metadata": {
        "colab": {
          "base_uri": "https://localhost:8080/"
        },
        "id": "q_09vo9uQKON",
        "outputId": "2c210533-a1f4-46c0-a5cf-dd8944fb1bda"
      },
      "execution_count": null,
      "outputs": [
        {
          "output_type": "stream",
          "name": "stdout",
          "text": [
            "Enter a value: ram\n",
            "Input cannot be converted to an integer.\n",
            "Input cannot be converted to a float.\n",
            "Boolean conversion: True\n"
          ]
        }
      ]
    },
    {
      "cell_type": "code",
      "source": [
        "#9 Write code to demonstrate type casting with list elements\n",
        "\n",
        "# Integer to Float\n",
        "int_value = 10\n",
        "float_value = float(int_value)\n",
        "print(\"Integer to Float:\", float_value)\n",
        "\n",
        "# Float to Integer\n",
        "float_value = 15.7\n",
        "int_value = int(float_value)\n",
        "print(\"Float to Integer:\", int_value)\n",
        "\n",
        "# String to Integer\n",
        "string_value = \"123\"\n",
        "int_value = int(string_value)\n",
        "print(\"String to Integer:\", int_value)\n",
        "\n",
        "# String to Float\n",
        "string_value = \"45.67\"\n",
        "float_value = float(string_value)\n",
        "print(\"String to Float:\", float_value)\n",
        "\n",
        "# Integer to String\n",
        "int_value = 78\n",
        "string_value = str(int_value)\n",
        "print(\"Integer to String:\", string_value)\n",
        "\n",
        "# Boolean to Integer\n",
        "bool_value = True\n",
        "int_value = int(bool_value)\n",
        "print(\"Boolean to Integer:\", int_value)  # Output: 1\n"
      ],
      "metadata": {
        "colab": {
          "base_uri": "https://localhost:8080/"
        },
        "id": "0Y7m0Klu9M_S",
        "outputId": "da9a323c-cfd2-4f06-bf66-a3cfa8afa393"
      },
      "execution_count": null,
      "outputs": [
        {
          "output_type": "stream",
          "name": "stdout",
          "text": [
            "Integer to Float: 10.0\n",
            "Float to Integer: 15\n",
            "String to Integer: 123\n",
            "String to Float: 45.67\n",
            "Integer to String: 78\n",
            "Boolean to Integer: 1\n"
          ]
        }
      ]
    },
    {
      "cell_type": "code",
      "source": [
        "#10 Write a program that checks if a number is positive, negative, or zero\n",
        "\n",
        "number = int(input(\"Enter a number: \"))\n",
        "\n",
        "# Check if the number is positive, negative, or zero\n",
        "if number > 0:\n",
        "    print(\"The number is positive.\")\n",
        "elif number < 0:\n",
        "    print(\"The number is negative.\")\n",
        "else:\n",
        "    print(\"The number is zero.\")\n"
      ],
      "metadata": {
        "colab": {
          "base_uri": "https://localhost:8080/"
        },
        "id": "luY8bRWH_HHQ",
        "outputId": "62f41858-dbf8-48ec-99a7-13d5211aea53"
      },
      "execution_count": null,
      "outputs": [
        {
          "output_type": "stream",
          "name": "stdout",
          "text": [
            "Enter a number: 20\n",
            "The number is positive.\n"
          ]
        }
      ]
    },
    {
      "cell_type": "code",
      "source": [
        "#11 Write a for loop to print numbers from 1 to 100\n",
        "\n",
        "for number in range(1, 101):\n",
        "    print(number, end=\" \")"
      ],
      "metadata": {
        "colab": {
          "base_uri": "https://localhost:8080/"
        },
        "id": "STriHTe8_qhk",
        "outputId": "04db6fad-3260-4e64-9790-2e52198f5c50"
      },
      "execution_count": null,
      "outputs": [
        {
          "output_type": "stream",
          "name": "stdout",
          "text": [
            "1 2 3 4 5 6 7 8 9 10 11 12 13 14 15 16 17 18 19 20 21 22 23 24 25 26 27 28 29 30 31 32 33 34 35 36 37 38 39 40 41 42 43 44 45 46 47 48 49 50 51 52 53 54 55 56 57 58 59 60 61 62 63 64 65 66 67 68 69 70 71 72 73 74 75 76 77 78 79 80 81 82 83 84 85 86 87 88 89 90 91 92 93 94 95 96 97 98 99 100 "
          ]
        }
      ]
    },
    {
      "cell_type": "code",
      "source": [
        "#12 Write a Python program to find the sum of all even numbers between 1 and 50\n",
        "\n",
        "# Initialize a variable to store the sum\n",
        "sum_of_evens = 0\n",
        "\n",
        "# Loop through numbers from 1 to 50\n",
        "for number in range(1, 51):\n",
        "    if number % 2 == 0:  # Check if the number is even\n",
        "        sum_of_evens += number\n",
        "\n",
        "# Print the result\n",
        "print(\"The sum of all even numbers between 1 and 50 is:\", sum_of_evens)\n"
      ],
      "metadata": {
        "colab": {
          "base_uri": "https://localhost:8080/"
        },
        "id": "kOGCwzag_6Ts",
        "outputId": "a57cd7a7-ad80-4158-e486-def732bfd99a"
      },
      "execution_count": null,
      "outputs": [
        {
          "output_type": "stream",
          "name": "stdout",
          "text": [
            "The sum of all even numbers between 1 and 50 is: 650\n"
          ]
        }
      ]
    },
    {
      "cell_type": "code",
      "source": [
        "#13 Write a program to reverse a string using a while loop\n",
        "\n",
        "# Input string from the user\n",
        "string = input(\"Enter a string: \")\n",
        "\n",
        "# Initialize variables\n",
        "reversed_string = \"\"\n",
        "i = len(string) - 1  # Start from the last index\n",
        "\n",
        "# Reverse the string\n",
        "while i >= 0:\n",
        "    reversed_string += string[i]\n",
        "    i -= 1  # Move to the previous character\n",
        "\n",
        "# Print the reversed string\n",
        "print(\"Reversed string:\", reversed_string)\n"
      ],
      "metadata": {
        "colab": {
          "base_uri": "https://localhost:8080/"
        },
        "id": "8P9kL3iwADH9",
        "outputId": "03563cd0-7005-4975-926f-58863455649d"
      },
      "execution_count": null,
      "outputs": [
        {
          "output_type": "stream",
          "name": "stdout",
          "text": [
            "Enter a string: name\n",
            "Reversed string: eman\n"
          ]
        }
      ]
    },
    {
      "cell_type": "code",
      "source": [
        "#14 Write a Python program to calculate the factorial of a number provided by the user using a while loop.\n",
        "\n",
        "num = int(input(\"Enter a number: \"))\n",
        "\n",
        "# Initialize factorial and counter\n",
        "factorial = 1\n",
        "i = num\n",
        "\n",
        "# Calculate factorial\n",
        "while i > 0:\n",
        "    factorial *= i\n",
        "    i -= 1\n",
        "\n",
        "# Print the result\n",
        "print(\"Factorial of\", num, \"is\", factorial)\n"
      ],
      "metadata": {
        "colab": {
          "base_uri": "https://localhost:8080/"
        },
        "id": "cFOZex4eAW96",
        "outputId": "29b59884-8958-4d7f-b1f1-d068a95784cf"
      },
      "execution_count": null,
      "outputs": [
        {
          "output_type": "stream",
          "name": "stdout",
          "text": [
            "Enter a number: 5\n",
            "Factorial of 5 is 120\n"
          ]
        }
      ]
    }
  ]
}