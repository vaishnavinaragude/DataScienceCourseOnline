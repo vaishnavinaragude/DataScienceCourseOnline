{
  "nbformat": 4,
  "nbformat_minor": 0,
  "metadata": {
    "colab": {
      "provenance": []
    },
    "kernelspec": {
      "name": "python3",
      "display_name": "Python 3"
    },
    "language_info": {
      "name": "python"
    }
  },
  "cells": [
    {
      "cell_type": "markdown",
      "source": [
        "1. What are data structures, and why are they important ?\n",
        "--> Data structures is a way of organising and storing data so that it can be accessed and manipulated efficiently.It provides a systematic way of organizing information, making it easier to process and use. Data structures are fundamental to computer science and are used in algorithms to solve various computational problems.\n",
        "\n",
        "\n",
        "2. Explain the difference between mutable and immutable data types with examples ?\n",
        "--> The main difference between mutable and immutable data types is that mutable data types can be changed after creation, while immutable data types cannot.\n",
        "Mutable data types :\n",
        "These data types can be modified after they are created. Examples of mutable data types include lists, dictionaries, and sets.\n",
        "Immutable data types :\n",
        "These data types cannot be changed or altered once they are set. Examples of immutable data types include strings, tuples, integers, and floats.\n",
        "\n",
        "\n",
        "3. What are the main differences between lists and tuples in Python ?\n",
        "--> The main differences between lists and tuples in Python are:\n",
        "Mutability: Lists are mutable, meaning they can be changed, while tuples are immutable, meaning they cannot be changed.\n",
        "Performance: Tuples are faster and more memory efficient than lists. This is because tuples are immutable, so Python can optimize memory allocation and access operations for them.\n",
        "Syntax: Tuples use round brackets or parenthesis, while lists use square brackets.\n",
        "Data types: Lists can hold elements of different data types.\n",
        "Length: Once defined, tuples have a fixed length, while lists have a dynamic length.\n",
        "Methods: Lists support a broader range of methods, such as appending, inserting, and removing elements. Tuples provide basic operations that allow you to retrieve information, like the length or index of a specific element.\n",
        "Use cases: Lists are used for data that needs to be changed frequently, while tuples are used for data that doesn't need to be changed frequently.\n",
        "\n",
        "\n",
        "4. Describe how dictionaries store data .\n",
        "--> Dictionaries are used to store data values in key:value pairs. A dictionary is a collection which is ordered*, changeable and do not allow duplicates.\n",
        "\n",
        "\n",
        "5. Why might you use a set instead of a list in Python ?\n",
        "--> Use a set instead of a list when you need unique elements, fast membership checks, or to perform set operations like union and intersection, especially when order and indexing are not required.\n",
        "\n",
        "\n",
        "6.  What is a string in Python, and how is it different from a list ?\n",
        "-->A string is a sequence of characters between single or double quotes. A list is a sequence of items, where each item could be anything (an integer, a float, a string, etc).\n",
        "\n",
        "\n",
        "7. How do tuples ensure data integrity in Python ?\n",
        "--> Tuples ensure data integrity in Python primarily because they are immutable, meaning their elements cannot be changed, added, or removed after creation.\n",
        "\n",
        "8. What is a hash table, and how does it relate to dictionaries in Python ?\n",
        "--> A hash table is a data structure that maps keys to values using a hash function for fast access. Python's dictionary is implemented as a hash table, offering O(1) average time complexity for lookups, insertions, and deletions. Dictionaries store unique keys, resolve collisions internally, and maintain insertion order\n",
        "\n",
        "\n",
        "9.  Can lists contain different data types in Python ?\n",
        "--> Yes, lists in Python can contain elements of different data types. Python lists are flexible and can store any combination of data types, such as integers, strings, floats, objects, or even other lists.\n",
        "\n",
        "\n",
        "10. Explain why strings are immutable in Python ?\n",
        "--> Strings in Python are immutable, meaning their content cannot be changed after creation. It ensures data integrity, allows strings to be used as dictionary keys, and enables performance optimizations like interning, where identical strings share the same memory location. Immutability also simplifies debugging and enhances security by preventing unintended modifications.\n",
        "\n",
        "\n",
        "11. What advantages do dictionaries offer over lists for certain tasks ?\n",
        "--> Dictionarys have two parts to every entry the key and the value and these are stored as pairs. This can give you more flexibility when storing data. The primary advantage would be retrieving stored values as it is much simpler to search through a dictionary.\n",
        "\n",
        "\n",
        "12. Describe a scenario where using a tuple would be preferable over a list\n",
        "--> If a data is needed in a program which is not supposed to be changed, then it is better to put it in 'tuples' than in 'list'.\n",
        "\n",
        "\n",
        "13. How do sets handle duplicate values in Python ?\n",
        "--> Items of a set in python are immutable (unchangeable), do not duplicate values, and unordered. Thus, items in a set do not appear in a stipulated manner, i.e., they can appear in a different order every time it is used.\n",
        "\n",
        "\n",
        "14. How does the “in” keyword work differently for lists and dictionaries ?\n",
        "--> 1.For lists, in checks for the presence of a value.\n",
        "    2. For dictionaries, in checks for the presence of a key.\n",
        "\n",
        "\n",
        "15. Can you modify the elements of a tuple? Explain why or why not?\n",
        "--> No, since tuples are immutable, meaning they cannot be changed once created. Tuples are immutable,as they are optimized for memory and performance.\n",
        "\n",
        "\n",
        "16. What is a nested dictionary, and give an example of its use case ?\n",
        "--> A nested dictionary is a dictionary where the values associated with keys are themselves dictionaries. This allows you to store complex data structures in a hierarchical manner.\n",
        "Use Case Example:\n",
        "A nested dictionary is useful for storing information about multiple students, where each student has various attributes like name, age, and grades.\n",
        "\n",
        "\n",
        "17. Describe the time complexity of accessing elements in a dictionary.\n",
        "--> Accessing elements in a dictionary has an average O(1) time complexity because dictionaries use hash tables for fast lookups. However, in rare cases with many hash collisions, it can degrade to O(n).\n",
        "\n",
        "\n",
        "18. In what situations are lists preferred over dictionaries\n",
        "--> Lists are preferred over dictionaries in the following situations:\n",
        "Ordered Data:\n",
        "When you need to maintain the order of elements, as lists preserve the insertion order (especially in Python 3.7+).\n",
        "Index-based Access:\n",
        "When you need to access elements by their index rather than a key. Lists allow for positional indexing (e.g., my_list[0]).\n",
        "Sequential Data:\n",
        "When the data is sequential and order matters, like storing items in a collection, tasks in a queue, or elements that need to be iterated in order.\n",
        "Allowing Duplicates:\n",
        "When duplicates are needed, as lists can contain repeated values, while dictionaries require unique keys.\n",
        "Simple Data:\n",
        "When you don't need key-value pairs and just need a collection of items, lists are simpler and more intuitive.\n",
        "\n",
        "\n",
        "19. Why are dictionaries considered unordered, and how does that affect data retrieval ?\n",
        "--> Dictionaries were historically unordered because they used hash tables, but from Python 3.7 onwards, they preserve insertion order. However, the order does not affect the speed of data retrieval, which remains O(1).\n",
        "\n",
        "\n",
        "20. Explain the difference between a list and a dictionary in terms of data retrieval.\n",
        "--> In a list, data is accessed by index, and retrieving an element by value takes O(n) time. In a dictionary, data is accessed by key, offering O(1) average time complexity for lookups, making it faster for key-based retrieval.\n"
      ],
      "metadata": {
        "id": "-MZ_3NUAK4B8"
      }
    },
    {
      "cell_type": "code",
      "source": [
        "#1 Write a code to create a string with your name and print it\n",
        "\n",
        "my_name= 'Vaishnavi'\n",
        "print(my_name)"
      ],
      "metadata": {
        "id": "Rmva_ohQMH0U",
        "colab": {
          "base_uri": "https://localhost:8080/"
        },
        "outputId": "0ae532a3-8e1e-4585-eb56-98766a47cd4b"
      },
      "execution_count": null,
      "outputs": [
        {
          "output_type": "stream",
          "name": "stdout",
          "text": [
            "Vaishnavi\n"
          ]
        }
      ]
    },
    {
      "cell_type": "code",
      "source": [
        "#2 Write a code to find the length of the string \"Hello World\" .\n",
        "\n",
        "string= \"Hello World\"\n",
        "print(string)\n",
        "length= len(string)\n",
        "print(length)"
      ],
      "metadata": {
        "id": "PBgs49wqMMnA",
        "colab": {
          "base_uri": "https://localhost:8080/"
        },
        "outputId": "9de3f8ed-d2be-4e91-e056-8055e5136501"
      },
      "execution_count": null,
      "outputs": [
        {
          "output_type": "stream",
          "name": "stdout",
          "text": [
            "Hello World\n",
            "11\n"
          ]
        }
      ]
    },
    {
      "cell_type": "code",
      "source": [
        "#3 Write a code to slice the first 3 characters from the string \"Python Programming\"\n",
        "\n",
        "my_string = \"Python Programming\"\n",
        "sliced_string = my_string[:3]\n",
        "print(sliced_string)\n"
      ],
      "metadata": {
        "id": "TaECrdcIMM9c",
        "colab": {
          "base_uri": "https://localhost:8080/"
        },
        "outputId": "9e4e4c88-2312-41c6-a829-4e8870abcbc5"
      },
      "execution_count": null,
      "outputs": [
        {
          "output_type": "stream",
          "name": "stdout",
          "text": [
            "Pyt\n"
          ]
        }
      ]
    },
    {
      "cell_type": "code",
      "source": [
        "#4 Write a code to convert the string \"hello\" to uppercase\n",
        "\n",
        "string= \"hello\"\n",
        "uppercase =string.upper()\n",
        "print(uppercase)"
      ],
      "metadata": {
        "id": "SmGG8E9xMNBI",
        "colab": {
          "base_uri": "https://localhost:8080/"
        },
        "outputId": "03fa833d-85c9-4bf7-92ad-610b8a9298d0"
      },
      "execution_count": null,
      "outputs": [
        {
          "output_type": "stream",
          "name": "stdout",
          "text": [
            "HELLO\n"
          ]
        }
      ]
    },
    {
      "cell_type": "code",
      "source": [
        "#5 Write a code to replace the word \"apple\" with \"orange\" in the string \"I like apple\"\n",
        "\n",
        "original_string = \"I like apple\"\n",
        "modified_string = original_string.replace(\"apple\", \"orange\")\n",
        "print(original_string)\n",
        "print(modified_string)\n"
      ],
      "metadata": {
        "id": "dW_S40aQMNEh",
        "colab": {
          "base_uri": "https://localhost:8080/"
        },
        "outputId": "ad3c91e2-be7a-423d-baba-3b4beeb94f86"
      },
      "execution_count": null,
      "outputs": [
        {
          "output_type": "stream",
          "name": "stdout",
          "text": [
            "I like apple\n",
            "I like orange\n"
          ]
        }
      ]
    },
    {
      "cell_type": "code",
      "source": [
        "#6  Write a code to create a list with numbers 1 to 5 and print it\n",
        "\n",
        "my_list = [1, 2, 3, 4, 5]\n",
        "print(my_list)\n"
      ],
      "metadata": {
        "id": "5dRP0uBaMNJK",
        "colab": {
          "base_uri": "https://localhost:8080/"
        },
        "outputId": "24a70b0f-65df-4335-f081-0452e18c51c6"
      },
      "execution_count": null,
      "outputs": [
        {
          "output_type": "stream",
          "name": "stdout",
          "text": [
            "[1, 2, 3, 4, 5]\n"
          ]
        }
      ]
    },
    {
      "cell_type": "code",
      "source": [
        "#7 Write a code to append the number 10 to the list [1, 2, 3, 4]\n",
        "\n",
        "my_list = [1, 2, 3, 4]\n",
        "my_list.append(10)\n",
        "print(my_list)"
      ],
      "metadata": {
        "id": "V3hoRLtTMNOm",
        "colab": {
          "base_uri": "https://localhost:8080/"
        },
        "outputId": "b16b97e3-5834-4e5b-f433-fa27038d0b2f"
      },
      "execution_count": null,
      "outputs": [
        {
          "output_type": "stream",
          "name": "stdout",
          "text": [
            "[1, 2, 3, 4, 10]\n"
          ]
        }
      ]
    },
    {
      "cell_type": "code",
      "source": [
        "#8 Write a code to remove the number 3 from the list [1, 2, 3, 4, 5]\n",
        "\n",
        "my_list= [1,2,3,4,5]\n",
        "my_list.remove(3)\n",
        "print(my_list)"
      ],
      "metadata": {
        "id": "_l0tVykrMNTZ",
        "colab": {
          "base_uri": "https://localhost:8080/"
        },
        "outputId": "69421253-c724-428d-86b3-e8f3d2fd63fb"
      },
      "execution_count": null,
      "outputs": [
        {
          "output_type": "stream",
          "name": "stdout",
          "text": [
            "[1, 2, 4, 5]\n"
          ]
        }
      ]
    },
    {
      "cell_type": "code",
      "source": [
        "#9 Write a code to access the second element in the list ['a', 'b', 'c', 'd']\n",
        "\n",
        "my_list = ['a', 'b', 'c', 'd']\n",
        "second_element = my_list[1]\n",
        "print(second_element)"
      ],
      "metadata": {
        "id": "2GEoXXl9Mmyh",
        "colab": {
          "base_uri": "https://localhost:8080/"
        },
        "outputId": "a0255dbc-0143-4332-9cc7-d010b807c216"
      },
      "execution_count": null,
      "outputs": [
        {
          "output_type": "stream",
          "name": "stdout",
          "text": [
            "b\n"
          ]
        }
      ]
    },
    {
      "cell_type": "code",
      "source": [
        "#10 Write a code to reverse the list [10, 20, 30, 40, 50].\n",
        "\n",
        "my_list = [10, 20, 30, 40, 50]\n",
        "my_list.reverse()\n",
        "print(my_list)\n"
      ],
      "metadata": {
        "id": "OiN6pktUMqiJ",
        "colab": {
          "base_uri": "https://localhost:8080/"
        },
        "outputId": "4ca69249-2fe9-4e67-c688-acd03d66aaed"
      },
      "execution_count": null,
      "outputs": [
        {
          "output_type": "stream",
          "name": "stdout",
          "text": [
            "[50, 40, 30, 20, 10]\n"
          ]
        }
      ]
    },
    {
      "cell_type": "code",
      "source": [
        "#11 Write a code to create a tuple with the elements 10, 20, 30 and print it\n",
        "\n",
        "\n",
        "my_tuple = (10, 20, 30)\n",
        "print(my_tuple)\n",
        "type(my_tuple)"
      ],
      "metadata": {
        "id": "U-3zfeQ_Mu2p",
        "colab": {
          "base_uri": "https://localhost:8080/"
        },
        "outputId": "f9d4c0bc-ed95-4258-f0cd-b4a7eb4ceaf0"
      },
      "execution_count": null,
      "outputs": [
        {
          "output_type": "stream",
          "name": "stdout",
          "text": [
            "(10, 20, 30)\n"
          ]
        },
        {
          "output_type": "execute_result",
          "data": {
            "text/plain": [
              "tuple"
            ]
          },
          "metadata": {},
          "execution_count": 17
        }
      ]
    },
    {
      "cell_type": "code",
      "source": [
        "#12 Write a code to access the first element of the tuple ('apple', 'banana', 'cherry')\n",
        "\n",
        "\n",
        "my_tuple = ('apple', 'banana', 'cherry')\n",
        "first_element = my_tuple[0]\n",
        "print(first_element)\n"
      ],
      "metadata": {
        "id": "sk5-KFjsMy85",
        "colab": {
          "base_uri": "https://localhost:8080/"
        },
        "outputId": "bd53224b-94f0-438f-c103-f6d86b7e3dad"
      },
      "execution_count": null,
      "outputs": [
        {
          "output_type": "stream",
          "name": "stdout",
          "text": [
            "apple\n"
          ]
        }
      ]
    },
    {
      "cell_type": "code",
      "source": [
        "#13 Write a code to count how many times the number 2 appears in the tuple (1, 2, 3, 2, 4, 2)\n",
        "\n",
        "\n",
        "my_tuple = (1, 2, 3, 2, 4, 2)\n",
        "count = my_tuple.count(2)\n",
        "print(count)\n"
      ],
      "metadata": {
        "id": "Gb9NjgQAM2Ij",
        "colab": {
          "base_uri": "https://localhost:8080/"
        },
        "outputId": "e08d41df-4035-4197-b871-d2ce40014d8c"
      },
      "execution_count": null,
      "outputs": [
        {
          "output_type": "stream",
          "name": "stdout",
          "text": [
            "3\n"
          ]
        }
      ]
    },
    {
      "cell_type": "code",
      "source": [
        "#14 Write a code to find the index of the element \"cat\" in the tuple ('dog', 'cat', 'rabbit').\n",
        "\n",
        "animals = ('dog', 'cat', 'rabbit')\n",
        "index_of_cat = animals.index('cat')\n",
        "print(\"The index of 'cat' is:\", index_of_cat)\n"
      ],
      "metadata": {
        "id": "sH1xhw_6N6Q5",
        "colab": {
          "base_uri": "https://localhost:8080/"
        },
        "outputId": "a5eda803-3883-4259-d448-7a2cab91d8da"
      },
      "execution_count": 1,
      "outputs": [
        {
          "output_type": "stream",
          "name": "stdout",
          "text": [
            "The index of 'cat' is: 1\n"
          ]
        }
      ]
    },
    {
      "cell_type": "code",
      "source": [
        "#15 Write a code to check if the element \"banana\" is in the tuple ('apple', 'orange', 'banana').\n",
        "\n",
        "fruits = ('apple', 'orange', 'banana')\n",
        "if 'banana' in fruits:\n",
        "    print(\"'banana' is in the tuple.\")\n",
        "else:\n",
        "    print(\"'banana' is not in the tuple.\")\n"
      ],
      "metadata": {
        "id": "e-M8KlRPN6X9",
        "colab": {
          "base_uri": "https://localhost:8080/"
        },
        "outputId": "879822b0-1b47-4023-858a-82bcab1e7a33"
      },
      "execution_count": 2,
      "outputs": [
        {
          "output_type": "stream",
          "name": "stdout",
          "text": [
            "'banana' is in the tuple.\n"
          ]
        }
      ]
    },
    {
      "cell_type": "code",
      "source": [
        "#16 Write a code to create a set with the elements 1, 2, 3, 4, 5 and print it.\n",
        "\n",
        "my_set = {1, 2, 3, 4, 5}\n",
        "print(\"The set is:\", my_set)\n"
      ],
      "metadata": {
        "id": "G-VUPJqoN6at",
        "colab": {
          "base_uri": "https://localhost:8080/"
        },
        "outputId": "af406e46-9100-42e8-9b45-913d506eba7e"
      },
      "execution_count": 3,
      "outputs": [
        {
          "output_type": "stream",
          "name": "stdout",
          "text": [
            "The set is: {1, 2, 3, 4, 5}\n"
          ]
        }
      ]
    },
    {
      "cell_type": "code",
      "source": [
        "#17 Write a code to add the element 6 to the set {1, 2, 3, 4}.\n",
        "\n",
        "my_set = {1, 2, 3, 4}\n",
        "my_set.add(6)\n",
        "print(\"The updated set is:\", my_set)\n"
      ],
      "metadata": {
        "id": "Q2YHVltyN6dk",
        "colab": {
          "base_uri": "https://localhost:8080/"
        },
        "outputId": "a119a271-685e-4b3d-9e36-853705dcc49d"
      },
      "execution_count": 4,
      "outputs": [
        {
          "output_type": "stream",
          "name": "stdout",
          "text": [
            "The updated set is: {1, 2, 3, 4, 6}\n"
          ]
        }
      ]
    },
    {
      "cell_type": "code",
      "source": [
        "#18 Write a code to create a tuple with the elements 10, 20, 30 and print it\n",
        "\n",
        "my_tuple = (10, 20, 30)\n",
        "print(\"The tuple is:\", my_tuple)\n"
      ],
      "metadata": {
        "id": "358e_MTBN6hH",
        "colab": {
          "base_uri": "https://localhost:8080/"
        },
        "outputId": "db7a6cb7-e7f3-4409-ca13-4edf4ea92b92"
      },
      "execution_count": 5,
      "outputs": [
        {
          "output_type": "stream",
          "name": "stdout",
          "text": [
            "The tuple is: (10, 20, 30)\n"
          ]
        }
      ]
    },
    {
      "cell_type": "code",
      "source": [
        "#19 Write a code to access the first element of the tuple ('apple', 'banana', 'cherry').\n",
        "\n",
        "fruits = ('apple', 'banana', 'cherry')\n",
        "first_element = fruits[0]\n",
        "print(\"The first element is:\", first_element)\n"
      ],
      "metadata": {
        "id": "yPEVmj65OOMY",
        "colab": {
          "base_uri": "https://localhost:8080/"
        },
        "outputId": "9f6943a1-fbf5-4cf4-e161-41fe754f2346"
      },
      "execution_count": 6,
      "outputs": [
        {
          "output_type": "stream",
          "name": "stdout",
          "text": [
            "The first element is: apple\n"
          ]
        }
      ]
    },
    {
      "cell_type": "code",
      "source": [
        "#20 Write a code to count how many times the number 2 appears in the tuple (1, 2, 3, 2, 4, 2).\n",
        "\n",
        "numbers = (1, 2, 3, 2, 4, 2)\n",
        "count_of_2 = numbers.count(2)\n",
        "print(\"The number 2 appears\", count_of_2, \"times in the tuple.\")\n"
      ],
      "metadata": {
        "id": "FwI-LIbjOOXB",
        "colab": {
          "base_uri": "https://localhost:8080/"
        },
        "outputId": "a939f88d-81b9-4dca-faa8-13d81906fc71"
      },
      "execution_count": 7,
      "outputs": [
        {
          "output_type": "stream",
          "name": "stdout",
          "text": [
            "The number 2 appears 3 times in the tuple.\n"
          ]
        }
      ]
    },
    {
      "cell_type": "code",
      "source": [
        "#21 Write a code to find the index of the element \"cat\" in the tuple ('dog', 'cat', 'rabbit')\n",
        "\n",
        "animals = ('dog', 'cat', 'rabbit')\n",
        "index_of_cat = animals.index('cat')\n",
        "print(\"The index of 'cat' is:\", index_of_cat)"
      ],
      "metadata": {
        "id": "cLEimqo6OU6u",
        "colab": {
          "base_uri": "https://localhost:8080/"
        },
        "outputId": "34cefaf5-8f5b-41f9-a5d8-e779120991bc"
      },
      "execution_count": 8,
      "outputs": [
        {
          "output_type": "stream",
          "name": "stdout",
          "text": [
            "The index of 'cat' is: 1\n"
          ]
        }
      ]
    },
    {
      "cell_type": "code",
      "source": [
        "#22  Write a code to check if the element \"banana\" is in the tuple ('apple', 'orange', 'banana').\n",
        "\n",
        "fruits = ('apple', 'orange', 'banana')\n",
        "if 'banana' in fruits:\n",
        "    print(\"'banana' is in the tuple.\")\n",
        "else:\n",
        "    print(\"'banana' is not in the tuple.\")\n",
        "\n"
      ],
      "metadata": {
        "id": "XxZPKHdFOYTg",
        "colab": {
          "base_uri": "https://localhost:8080/"
        },
        "outputId": "df29a1ec-c638-42be-8bd6-ce3ab25fa986"
      },
      "execution_count": 9,
      "outputs": [
        {
          "output_type": "stream",
          "name": "stdout",
          "text": [
            "'banana' is in the tuple.\n"
          ]
        }
      ]
    }
  ]
}